{
 "cells": [
  {
   "cell_type": "markdown",
   "id": "controlling-metropolitan",
   "metadata": {},
   "source": [
    "# Data Distribution"
   ]
  },
  {
   "cell_type": "code",
   "execution_count": 1,
   "id": "capable-digit",
   "metadata": {},
   "outputs": [],
   "source": [
    "from zipfile import ZipFile\n",
    "import pandas as pd\n",
    "\n",
    "def getLabelCounts(zfilepath):\n",
    "    '''Returns a data frame that contains emotion labels and number of images per emotion.'''\n",
    "    \n",
    "    # map emotion 'angry' -> 'anger', etc.\n",
    "    label_map = {'angry': 'anger', 'neutral': 'neutrality', 'sad': 'sadness', 'happy': 'happiness'}\n",
    "    labels = list()     # emotion category\n",
    "    counts = list()     # number of images per emotion category\n",
    "    \n",
    "    # read a zip file\n",
    "    # get a number of images per emotion category\n",
    "    with ZipFile(zfilepath) as zip_data:\n",
    "        file_list = zip_data.namelist()\n",
    "        \n",
    "        for file_path in file_list:\n",
    "            emotion = file_path.split('/')[-2]\n",
    "            \n",
    "            # file contains emotion labels 'angry', 'neutral', 'sad', 'happy'\n",
    "            # change emotion labels to the corresponding values in label_map\n",
    "            if emotion in label_map.keys():\n",
    "                emotion = label_map.get(emotion)\n",
    "            \n",
    "            if emotion not in labels:\n",
    "                labels.append(emotion)\n",
    "                counts.append(1)\n",
    "            else:\n",
    "                index = labels.index(emotion)\n",
    "                counts[index] += 1\n",
    "    \n",
    "    # create a data frame that store emotion labels and number of images per emotion\n",
    "    temp = pd.DataFrame({'Emotion': labels, 'Number of Images': counts})\n",
    "    temp['Dataset'] = zfilepath.split('/')[-1].split('.')[-2]\n",
    "    \n",
    "    return temp"
   ]
  },
  {
   "cell_type": "code",
   "execution_count": 2,
   "id": "asian-power",
   "metadata": {},
   "outputs": [
    {
     "data": {
      "text/html": [
       "<div>\n",
       "<style scoped>\n",
       "    .dataframe tbody tr th:only-of-type {\n",
       "        vertical-align: middle;\n",
       "    }\n",
       "\n",
       "    .dataframe tbody tr th {\n",
       "        vertical-align: top;\n",
       "    }\n",
       "\n",
       "    .dataframe thead th {\n",
       "        text-align: right;\n",
       "    }\n",
       "</style>\n",
       "<table border=\"1\" class=\"dataframe\">\n",
       "  <thead>\n",
       "    <tr style=\"text-align: right;\">\n",
       "      <th></th>\n",
       "      <th>Emotion</th>\n",
       "      <th>Number of Images</th>\n",
       "      <th>Dataset</th>\n",
       "    </tr>\n",
       "  </thead>\n",
       "  <tbody>\n",
       "    <tr>\n",
       "      <th>0</th>\n",
       "      <td>anger</td>\n",
       "      <td>4725</td>\n",
       "      <td>fer_ck_plus</td>\n",
       "    </tr>\n",
       "    <tr>\n",
       "      <th>1</th>\n",
       "      <td>contempt</td>\n",
       "      <td>130</td>\n",
       "      <td>fer_ck_plus</td>\n",
       "    </tr>\n",
       "    <tr>\n",
       "      <th>2</th>\n",
       "      <td>disgust</td>\n",
       "      <td>795</td>\n",
       "      <td>fer_ck_plus</td>\n",
       "    </tr>\n",
       "    <tr>\n",
       "      <th>3</th>\n",
       "      <td>fear</td>\n",
       "      <td>3454</td>\n",
       "      <td>fer_ck_plus</td>\n",
       "    </tr>\n",
       "    <tr>\n",
       "      <th>4</th>\n",
       "      <td>happiness</td>\n",
       "      <td>9049</td>\n",
       "      <td>fer_ck_plus</td>\n",
       "    </tr>\n",
       "    <tr>\n",
       "      <th>5</th>\n",
       "      <td>neutrality</td>\n",
       "      <td>5072</td>\n",
       "      <td>fer_ck_plus</td>\n",
       "    </tr>\n",
       "    <tr>\n",
       "      <th>6</th>\n",
       "      <td>sadness</td>\n",
       "      <td>5403</td>\n",
       "      <td>fer_ck_plus</td>\n",
       "    </tr>\n",
       "    <tr>\n",
       "      <th>7</th>\n",
       "      <td>surprise</td>\n",
       "      <td>4226</td>\n",
       "      <td>fer_ck_plus</td>\n",
       "    </tr>\n",
       "  </tbody>\n",
       "</table>\n",
       "</div>"
      ],
      "text/plain": [
       "      Emotion  Number of Images      Dataset\n",
       "0       anger              4725  fer_ck_plus\n",
       "1    contempt               130  fer_ck_plus\n",
       "2     disgust               795  fer_ck_plus\n",
       "3        fear              3454  fer_ck_plus\n",
       "4   happiness              9049  fer_ck_plus\n",
       "5  neutrality              5072  fer_ck_plus\n",
       "6     sadness              5403  fer_ck_plus\n",
       "7    surprise              4226  fer_ck_plus"
      ]
     },
     "execution_count": 2,
     "metadata": {},
     "output_type": "execute_result"
    }
   ],
   "source": [
    "# get number of images per emotion category for fer_ck_plus dataset\n",
    "df = getLabelCounts('data/fer_ck_plus.zip')\n",
    "df"
   ]
  },
  {
   "cell_type": "code",
   "execution_count": 3,
   "id": "medieval-tuition",
   "metadata": {},
   "outputs": [
    {
     "data": {
      "text/plain": [
       "32854"
      ]
     },
     "execution_count": 3,
     "metadata": {},
     "output_type": "execute_result"
    }
   ],
   "source": [
    "# total number of images in fer_ck_plus dataset\n",
    "sum(df['Number of Images'])"
   ]
  },
  {
   "cell_type": "code",
   "execution_count": 4,
   "id": "ongoing-candy",
   "metadata": {},
   "outputs": [
    {
     "data": {
      "text/html": [
       "<div>\n",
       "<style scoped>\n",
       "    .dataframe tbody tr th:only-of-type {\n",
       "        vertical-align: middle;\n",
       "    }\n",
       "\n",
       "    .dataframe tbody tr th {\n",
       "        vertical-align: top;\n",
       "    }\n",
       "\n",
       "    .dataframe thead th {\n",
       "        text-align: right;\n",
       "    }\n",
       "</style>\n",
       "<table border=\"1\" class=\"dataframe\">\n",
       "  <thead>\n",
       "    <tr style=\"text-align: right;\">\n",
       "      <th></th>\n",
       "      <th>Emotion</th>\n",
       "      <th>Number of Images</th>\n",
       "      <th>Dataset</th>\n",
       "    </tr>\n",
       "  </thead>\n",
       "  <tbody>\n",
       "    <tr>\n",
       "      <th>0</th>\n",
       "      <td>anger</td>\n",
       "      <td>8624</td>\n",
       "      <td>mma_data</td>\n",
       "    </tr>\n",
       "    <tr>\n",
       "      <th>1</th>\n",
       "      <td>disgust</td>\n",
       "      <td>4542</td>\n",
       "      <td>mma_data</td>\n",
       "    </tr>\n",
       "    <tr>\n",
       "      <th>2</th>\n",
       "      <td>fear</td>\n",
       "      <td>6209</td>\n",
       "      <td>mma_data</td>\n",
       "    </tr>\n",
       "    <tr>\n",
       "      <th>3</th>\n",
       "      <td>happiness</td>\n",
       "      <td>39526</td>\n",
       "      <td>mma_data</td>\n",
       "    </tr>\n",
       "    <tr>\n",
       "      <th>4</th>\n",
       "      <td>neutrality</td>\n",
       "      <td>41081</td>\n",
       "      <td>mma_data</td>\n",
       "    </tr>\n",
       "    <tr>\n",
       "      <th>5</th>\n",
       "      <td>sadness</td>\n",
       "      <td>16636</td>\n",
       "      <td>mma_data</td>\n",
       "    </tr>\n",
       "    <tr>\n",
       "      <th>6</th>\n",
       "      <td>surprise</td>\n",
       "      <td>11062</td>\n",
       "      <td>mma_data</td>\n",
       "    </tr>\n",
       "  </tbody>\n",
       "</table>\n",
       "</div>"
      ],
      "text/plain": [
       "      Emotion  Number of Images   Dataset\n",
       "0       anger              8624  mma_data\n",
       "1     disgust              4542  mma_data\n",
       "2        fear              6209  mma_data\n",
       "3   happiness             39526  mma_data\n",
       "4  neutrality             41081  mma_data\n",
       "5     sadness             16636  mma_data\n",
       "6    surprise             11062  mma_data"
      ]
     },
     "execution_count": 4,
     "metadata": {},
     "output_type": "execute_result"
    }
   ],
   "source": [
    "# get number of images per emotion category for mma dataset\n",
    "df1 = getLabelCounts('data/mma_data.zip')\n",
    "df1"
   ]
  },
  {
   "cell_type": "code",
   "execution_count": 5,
   "id": "color-humor",
   "metadata": {},
   "outputs": [
    {
     "data": {
      "text/plain": [
       "127680"
      ]
     },
     "execution_count": 5,
     "metadata": {},
     "output_type": "execute_result"
    }
   ],
   "source": [
    "# total number of images in mma dataset\n",
    "sum(df1['Number of Images'])"
   ]
  },
  {
   "cell_type": "code",
   "execution_count": 6,
   "id": "auburn-newark",
   "metadata": {},
   "outputs": [
    {
     "data": {
      "text/plain": [
       "array(['anger', 'disgust', 'fear', 'happiness', 'neutrality', 'sadness',\n",
       "       'surprise'], dtype=object)"
      ]
     },
     "execution_count": 6,
     "metadata": {},
     "output_type": "execute_result"
    }
   ],
   "source": [
    "df1.Emotion.unique()"
   ]
  },
  {
   "cell_type": "code",
   "execution_count": 7,
   "id": "threatened-journal",
   "metadata": {},
   "outputs": [
    {
     "data": {
      "text/html": [
       "<div>\n",
       "<style scoped>\n",
       "    .dataframe tbody tr th:only-of-type {\n",
       "        vertical-align: middle;\n",
       "    }\n",
       "\n",
       "    .dataframe tbody tr th {\n",
       "        vertical-align: top;\n",
       "    }\n",
       "\n",
       "    .dataframe thead th {\n",
       "        text-align: right;\n",
       "    }\n",
       "</style>\n",
       "<table border=\"1\" class=\"dataframe\">\n",
       "  <thead>\n",
       "    <tr style=\"text-align: right;\">\n",
       "      <th></th>\n",
       "      <th>Emotion</th>\n",
       "      <th>Number of Images</th>\n",
       "      <th>Dataset</th>\n",
       "    </tr>\n",
       "  </thead>\n",
       "  <tbody>\n",
       "    <tr>\n",
       "      <th>0</th>\n",
       "      <td>anger</td>\n",
       "      <td>4725</td>\n",
       "      <td>fer_ck_plus</td>\n",
       "    </tr>\n",
       "    <tr>\n",
       "      <th>1</th>\n",
       "      <td>contempt</td>\n",
       "      <td>130</td>\n",
       "      <td>fer_ck_plus</td>\n",
       "    </tr>\n",
       "    <tr>\n",
       "      <th>2</th>\n",
       "      <td>disgust</td>\n",
       "      <td>795</td>\n",
       "      <td>fer_ck_plus</td>\n",
       "    </tr>\n",
       "    <tr>\n",
       "      <th>3</th>\n",
       "      <td>fear</td>\n",
       "      <td>3454</td>\n",
       "      <td>fer_ck_plus</td>\n",
       "    </tr>\n",
       "    <tr>\n",
       "      <th>4</th>\n",
       "      <td>happiness</td>\n",
       "      <td>9049</td>\n",
       "      <td>fer_ck_plus</td>\n",
       "    </tr>\n",
       "    <tr>\n",
       "      <th>5</th>\n",
       "      <td>neutrality</td>\n",
       "      <td>5072</td>\n",
       "      <td>fer_ck_plus</td>\n",
       "    </tr>\n",
       "    <tr>\n",
       "      <th>6</th>\n",
       "      <td>sadness</td>\n",
       "      <td>5403</td>\n",
       "      <td>fer_ck_plus</td>\n",
       "    </tr>\n",
       "    <tr>\n",
       "      <th>7</th>\n",
       "      <td>surprise</td>\n",
       "      <td>4226</td>\n",
       "      <td>fer_ck_plus</td>\n",
       "    </tr>\n",
       "    <tr>\n",
       "      <th>8</th>\n",
       "      <td>anger</td>\n",
       "      <td>8624</td>\n",
       "      <td>mma_data</td>\n",
       "    </tr>\n",
       "    <tr>\n",
       "      <th>9</th>\n",
       "      <td>disgust</td>\n",
       "      <td>4542</td>\n",
       "      <td>mma_data</td>\n",
       "    </tr>\n",
       "    <tr>\n",
       "      <th>10</th>\n",
       "      <td>fear</td>\n",
       "      <td>6209</td>\n",
       "      <td>mma_data</td>\n",
       "    </tr>\n",
       "    <tr>\n",
       "      <th>11</th>\n",
       "      <td>happiness</td>\n",
       "      <td>39526</td>\n",
       "      <td>mma_data</td>\n",
       "    </tr>\n",
       "    <tr>\n",
       "      <th>12</th>\n",
       "      <td>neutrality</td>\n",
       "      <td>41081</td>\n",
       "      <td>mma_data</td>\n",
       "    </tr>\n",
       "    <tr>\n",
       "      <th>13</th>\n",
       "      <td>sadness</td>\n",
       "      <td>16636</td>\n",
       "      <td>mma_data</td>\n",
       "    </tr>\n",
       "    <tr>\n",
       "      <th>14</th>\n",
       "      <td>surprise</td>\n",
       "      <td>11062</td>\n",
       "      <td>mma_data</td>\n",
       "    </tr>\n",
       "  </tbody>\n",
       "</table>\n",
       "</div>"
      ],
      "text/plain": [
       "       Emotion  Number of Images      Dataset\n",
       "0        anger              4725  fer_ck_plus\n",
       "1     contempt               130  fer_ck_plus\n",
       "2      disgust               795  fer_ck_plus\n",
       "3         fear              3454  fer_ck_plus\n",
       "4    happiness              9049  fer_ck_plus\n",
       "5   neutrality              5072  fer_ck_plus\n",
       "6      sadness              5403  fer_ck_plus\n",
       "7     surprise              4226  fer_ck_plus\n",
       "8        anger              8624     mma_data\n",
       "9      disgust              4542     mma_data\n",
       "10        fear              6209     mma_data\n",
       "11   happiness             39526     mma_data\n",
       "12  neutrality             41081     mma_data\n",
       "13     sadness             16636     mma_data\n",
       "14    surprise             11062     mma_data"
      ]
     },
     "execution_count": 7,
     "metadata": {},
     "output_type": "execute_result"
    }
   ],
   "source": [
    "# concatentate the two data frames\n",
    "data = pd.concat([df, df1], axis=0).reset_index().drop(['index'], axis=1)\n",
    "data"
   ]
  },
  {
   "cell_type": "markdown",
   "id": "perfect-patio",
   "metadata": {},
   "source": [
    "## Vertical Bar Chart"
   ]
  },
  {
   "cell_type": "code",
   "execution_count": 8,
   "id": "anticipated-dallas",
   "metadata": {},
   "outputs": [],
   "source": [
    "import matplotlib.pyplot as plt\n",
    "%matplotlib inline\n",
    "import seaborn as sns\n",
    "import numpy as np"
   ]
  },
  {
   "cell_type": "code",
   "execution_count": 9,
   "id": "ruled-astronomy",
   "metadata": {},
   "outputs": [
    {
     "data": {
      "image/png": "[encoded data removed]",
      "text/plain": [
       "<Figure size 720x432 with 1 Axes>"
      ]
     },
     "metadata": {
      "needs_background": "light"
     },
     "output_type": "display_data"
    }
   ],
   "source": [
    "fig, ax = plt.subplots(figsize=(10,6))\n",
    "\n",
    "chart = sns.barplot(data=data, x='Emotion',y='Number of Images',hue='Dataset')\n",
    "\n",
    "# annotation here\n",
    "for p in chart.patches:\n",
    "             chart.annotate(\"%.0f\" % p.get_height(), (p.get_x() + p.get_width() / 2., p.get_height()),\n",
    "                 ha='center', va='center', fontsize=10, color='black', xytext=(0, 5),\n",
    "                 textcoords='offset points')\n",
    "\n",
    "# hide the right and top spines\n",
    "ax.spines['right'].set_visible(False)\n",
    "ax.spines['top'].set_visible(False)\n",
    "\n",
    "# hide legend's border\n",
    "plt.legend(frameon=False)\n",
    "\n",
    "# set plot's title and axis labels\n",
    "plt.title('Number of Images per Emotion Category', pad=20, fontsize=14)\n",
    "plt.xlabel('Emotions', fontsize=12)\n",
    "plt.ylabel('Number of Images', fontsize=12)\n",
    "\n",
    "# show plot\n",
    "plt.show()"
   ]
  },
  {
   "cell_type": "markdown",
   "id": "distributed-flood",
   "metadata": {},
   "source": [
    "## Stacked Bar Chart"
   ]
  },
  {
   "cell_type": "code",
   "execution_count": 10,
   "id": "united-punch",
   "metadata": {},
   "outputs": [],
   "source": [
    "def getCounts(emotions, data_in):\n",
    "    '''Returns a list of image counts for each emotion in the emotions list'''\n",
    "    \n",
    "    temp_emotion = data_in['Emotion'].to_list()\n",
    "    temp_count = data_in['Number of Images'].to_list()\n",
    "    counts = []\n",
    "    \n",
    "    for x in emotions:\n",
    "        if x in temp_emotion:\n",
    "            index = temp_emotion.index(x)\n",
    "            counts.append(temp_count[index])\n",
    "        else:\n",
    "            counts.append(0)\n",
    "    \n",
    "    return counts"
   ]
  },
  {
   "cell_type": "code",
   "execution_count": 11,
   "id": "recreational-harvey",
   "metadata": {},
   "outputs": [
    {
     "data": {
      "image/png": "[encoded data removed]",
      "text/plain": [
       "<Figure size 720x432 with 1 Axes>"
      ]
     },
     "metadata": {
      "needs_background": "light"
     },
     "output_type": "display_data"
    }
   ],
   "source": [
    "# set the width of the bars and tick positions\n",
    "bar_width = 0.5\n",
    "emotions = list(data['Emotion'].unique())         # a list of emotions\n",
    "ind = list(np.arange(len(emotions)))              # the number of emotions to plot\n",
    "tick_pos = [i + (bar_width/50) for i in ind]      # tick position for each emotion\n",
    "\n",
    "# prepare data for plotting\n",
    "fer_ck_plus = getCounts(emotions, df)\n",
    "mma_data = getCounts(emotions, df1)\n",
    "\n",
    "# set plot's size\n",
    "fig, ax = plt.subplots(figsize=(10,6))\n",
    "\n",
    "# create bar plots\n",
    "p1 = plt.bar(ind, fer_ck_plus, bar_width, color='blue',align='center')\n",
    "p2 = plt.bar(ind, mma_data, bar_width, bottom=fer_ck_plus, color='orange',align='center')\n",
    "\n",
    "# add some text for labels, title, axes ticks, and legend\n",
    "plt.ylabel('Number of Images')\n",
    "plt.xlabel('Emotions')\n",
    "plt.xticks(tick_pos, emotions)\n",
    "\n",
    "# set legend\n",
    "plt.legend((p1, p2), ('fer_ck_plus', 'mma'), frameon=False)\n",
    "\n",
    "# labels for each bar\n",
    "for r1, r2 in zip(p1, p2):\n",
    "    h1 = r1.get_height()\n",
    "    h2 = r2.get_height()\n",
    "    h3 = h1 + h2\n",
    "    \n",
    "    if h1 > 0:\n",
    "        plt.text(r1.get_x() + r1.get_width() / 2., h1 / 2., \"%d\" % h1, \n",
    "             ha=\"center\", va=\"bottom\", color='magenta', fontweight='bold')\n",
    "    \n",
    "    if h2 > 0:\n",
    "        plt.text(r2.get_x() + r2.get_width() / 2., h1 + h2 / 2., \"%d\" % h2, \n",
    "             ha=\"center\", va=\"bottom\", color='white', fontweight='bold')\n",
    "    \n",
    "    if h3 > h1:\n",
    "        plt.text(r2.get_x() + r2.get_width() / 2., h1 + h2 + 1.0, \"%d\" % h3, \n",
    "             ha=\"center\", va=\"bottom\", color='black')\n",
    "\n",
    "# Hide the right and top spines\n",
    "ax.spines['right'].set_visible(False)\n",
    "ax.spines['top'].set_visible(False)\n",
    "\n",
    "# set plot's title and axis labels\n",
    "plt.title('Number of Images per Emotion Category', pad=20, fontsize=14)\n",
    "plt.xlabel('Emotions', fontsize=12)\n",
    "plt.ylabel('Number of Images', fontsize=12)\n",
    "\n",
    "# display the bar plot\n",
    "plt.show()"
   ]
  }
 ],
 "metadata": {
  "kernelspec": {
   "display_name": "Python 3",
   "language": "python",
   "name": "python3"
  },
  "language_info": {
   "codemirror_mode": {
    "name": "ipython",
    "version": 3
   },
   "file_extension": ".py",
   "mimetype": "text/x-python",
   "name": "python",
   "nbconvert_exporter": "python",
   "pygments_lexer": "ipython3",
   "version": "3.8.8"
  }
 },
 "nbformat": 4,
 "nbformat_minor": 5
}
