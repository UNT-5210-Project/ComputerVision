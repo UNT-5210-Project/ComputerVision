{
 "cells": [
  {
   "cell_type": "markdown",
   "id": "asian-lying",
   "metadata": {},
   "source": [
    "# Convert Train/Set Dataset to Numpy Array"
   ]
  },
  {
   "cell_type": "code",
   "execution_count": 1,
   "id": "significant-vinyl",
   "metadata": {},
   "outputs": [],
   "source": [
    "from zipfile import ZipFile\n",
    "from skimage.io import imread\n",
    "import numpy as np\n",
    "\n",
    "def loadData(filepath):\n",
    "    X = []   # store images\n",
    "    Y = []   # store labels\n",
    "    \n",
    "    with ZipFile(filepath, 'r') as zipdata:\n",
    "        namelist = zipdata.namelist()\n",
    "        \n",
    "        # loop through every directory/file\n",
    "        for file_path in namelist:\n",
    "            # read image files and save to list\n",
    "            if '.jpg' in file_path or '.JPG' in file_path:\n",
    "                # get image's label\n",
    "                Y.append(file_path.split('/')[-2])\n",
    "                \n",
    "                # load image into list\n",
    "                img_bytes = zipdata.open(file_path)\n",
    "                image = imread(img_bytes)\n",
    "                X.append(image)\n",
    "    \n",
    "    # close zip file\n",
    "    zipdata.close()\n",
    "    \n",
    "    # return images/labels list\n",
    "    return (X, Y)"
   ]
  },
  {
   "cell_type": "code",
   "execution_count": 2,
   "id": "attached-hungarian",
   "metadata": {},
   "outputs": [],
   "source": [
    "# load train/test images into list\n",
    "X_test, Y_test = loadData('data/test.zip')\n",
    "X_train, Y_train = loadData('data/train.zip')\n",
    "\n",
    "# convert list to numpy array\n",
    "X_test = np.asarray(X_test, dtype='float32')\n",
    "Y_test = np.asarray(Y_test).reshape(-1,1)\n",
    "X_train = np.asarray(X_train, dtype='float32')\n",
    "Y_train = np.asarray(Y_train).reshape(-1,1)\n",
    "\n",
    "# save numpy arrays\n",
    "np.save('data/X_train.npy', X_train)\n",
    "np.save('data/Y_train.npy', Y_train)\n",
    "np.save('data/X_test.npy', X_test)\n",
    "np.save('data/Y_test.npy', Y_test)"
   ]
  }
 ],
 "metadata": {
  "kernelspec": {
   "display_name": "Python 3",
   "language": "python",
   "name": "python3"
  },
  "language_info": {
   "codemirror_mode": {
    "name": "ipython",
    "version": 3
   },
   "file_extension": ".py",
   "mimetype": "text/x-python",
   "name": "python",
   "nbconvert_exporter": "python",
   "pygments_lexer": "ipython3",
   "version": "3.8.8"
  }
 },
 "nbformat": 4,
 "nbformat_minor": 5
}
