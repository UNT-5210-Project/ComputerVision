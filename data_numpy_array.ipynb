{
 "cells": [
  {
   "cell_type": "markdown",
   "id": "asian-lying",
   "metadata": {},
   "source": [
    "# Convert Train/Set Dataset to Numpy Array"
   ]
  },
  {
   "cell_type": "code",
   "execution_count": 1,
   "id": "significant-vinyl",
   "metadata": {},
   "outputs": [],
   "source": [
    "from zipfile import ZipFile\n",
    "from skimage.io import imread\n",
    "import numpy as np\n",
    "\n",
    "def loadData(filepath):\n",
    "    X = []   # store images\n",
    "    Y = []   # store labels\n",
    "    \n",
    "    with ZipFile(filepath, 'r') as zipdata:\n",
    "        namelist = zipdata.namelist()\n",
    "        \n",
    "        # loop through every directory/file\n",
    "        for file_path in namelist:\n",
    "            # read image files and save to list\n",
    "            if '.jpg' in str.lower(file_path) or '.png' in str.lower(file_path):\n",
    "                # get image's label\n",
    "                Y.append(file_path.split('/')[-2])\n",
    "                \n",
    "                # load image into list\n",
    "                img_bytes = zipdata.open(file_path)\n",
    "                image = imread(img_bytes)\n",
    "                X.append(image)\n",
    "    \n",
    "    # close zip file\n",
    "    zipdata.close()\n",
    "    \n",
    "    # return images/labels list\n",
    "    return (X, Y)"
   ]
  },
  {
   "cell_type": "code",
   "execution_count": 2,
   "id": "attached-hungarian",
   "metadata": {},
   "outputs": [
    {
     "name": "stderr",
     "output_type": "stream",
     "text": [
      "100%|██████████| 2/2 [00:00<?, ?it/s]\n",
      "100%|██████████| 2/2 [00:00<?, ?it/s]\n",
      "100%|██████████| 2/2 [00:00<?, ?it/s]\n"
     ]
    }
   ],
   "source": [
    "from tqdm import tqdm\n",
    "\n",
    "# load train/test images into list\n",
    "X_test, y_test = tqdm(loadData('data/test.zip'))\n",
    "X_valid, y_valid = tqdm(loadData('data/valid.zip'))\n",
    "X_train, y_train = tqdm(loadData('data/train.zip'))\n",
    "\n",
    "# convert list to numpy array\n",
    "# test set\n",
    "X_test = np.asarray(X_test, dtype='float32')\n",
    "y_test = np.asarray(y_test).reshape(-1,1)\n",
    "\n",
    "# validation set\n",
    "X_valid = np.asarray(X_valid, dtype='float32')\n",
    "y_valid = np.asarray(y_valid).reshape(-1,1)\n",
    "\n",
    "# train set\n",
    "X_train = np.asarray(X_train, dtype='float32')\n",
    "y_train = np.asarray(y_train).reshape(-1,1)\n",
    "\n",
    "# save numpy arrays\n",
    "np.save('data/X_train.npy', X_train)\n",
    "np.save('data/y_train.npy', y_train)\n",
    "np.save('data/X_test.npy', X_test)\n",
    "np.save('data/y_test.npy', y_test)\n",
    "np.save('data/X_valid.npy', X_valid)\n",
    "np.save('data/y_valid.npy', y_valid)"
   ]
  },
  {
   "cell_type": "code",
   "execution_count": 3,
   "id": "international-missouri",
   "metadata": {},
   "outputs": [
    {
     "data": {
      "text/plain": [
       "(7472, 28, 28)"
      ]
     },
     "execution_count": 3,
     "metadata": {},
     "output_type": "execute_result"
    }
   ],
   "source": [
    "X_test.shape"
   ]
  },
  {
   "cell_type": "code",
   "execution_count": 4,
   "id": "extraordinary-forth",
   "metadata": {},
   "outputs": [
    {
     "data": {
      "text/plain": [
       "(22542, 28, 28)"
      ]
     },
     "execution_count": 4,
     "metadata": {},
     "output_type": "execute_result"
    }
   ],
   "source": [
    "X_train.shape"
   ]
  },
  {
   "cell_type": "code",
   "execution_count": 5,
   "id": "peaceful-composite",
   "metadata": {},
   "outputs": [
    {
     "data": {
      "text/plain": [
       "(7472, 28, 28)"
      ]
     },
     "execution_count": 5,
     "metadata": {},
     "output_type": "execute_result"
    }
   ],
   "source": [
    "X_valid.shape"
   ]
  }
 ],
 "metadata": {
  "kernelspec": {
   "display_name": "Python 3",
   "language": "python",
   "name": "python3"
  },
  "language_info": {
   "codemirror_mode": {
    "name": "ipython",
    "version": 3
   },
   "file_extension": ".py",
   "mimetype": "text/x-python",
   "name": "python",
   "nbconvert_exporter": "python",
   "pygments_lexer": "ipython3",
   "version": "3.8.8"
  }
 },
 "nbformat": 4,
 "nbformat_minor": 5
}
